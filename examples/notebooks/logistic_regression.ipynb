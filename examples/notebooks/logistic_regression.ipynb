{
 "cells": [
  {
   "cell_type": "code",
   "execution_count": null,
   "metadata": {},
   "outputs": [],
   "source": [
    "from nums import numpy as nps\n",
    "from nums.models.glms import LogisticRegression"
   ]
  },
  {
   "cell_type": "code",
   "execution_count": null,
   "metadata": {},
   "outputs": [],
   "source": [
    "# Make dataset.\n",
    "X1 = nps.random.randn(500, 1) + 5.0\n",
    "y1 = nps.zeros(shape=(500,), dtype=bool)\n",
    "X2 = nps.random.randn(500, 1) + 10.0\n",
    "y2 = nps.ones(shape=(500,), dtype=bool)\n",
    "X = nps.concatenate([X1, X2], axis=0)\n",
    "y = nps.concatenate([y1, y2], axis=0)"
   ]
  },
  {
   "cell_type": "code",
   "execution_count": null,
   "metadata": {},
   "outputs": [],
   "source": [
    "# Train Logistic Regression Model.\n",
    "model = LogisticRegression(solver=\"newton-cg\", tol=1e-8, max_iter=1)\n",
    "model.fit(X, y)\n",
    "y_pred = model.predict(X)\n",
    "print(\"accuracy\", (nps.sum(y == y_pred) / X.shape[0]).get())"
   ]
  }
 ],
 "metadata": {
  "kernelspec": {
   "display_name": "Python 3",
   "language": "python",
   "name": "python3"
  },
  "language_info": {
   "codemirror_mode": {
    "name": "ipython",
    "version": 3
   },
   "file_extension": ".py",
   "mimetype": "text/x-python",
   "name": "python",
   "nbconvert_exporter": "python",
   "pygments_lexer": "ipython3",
   "version": "3.7.4"
  }
 },
 "nbformat": 4,
 "nbformat_minor": 2
}
